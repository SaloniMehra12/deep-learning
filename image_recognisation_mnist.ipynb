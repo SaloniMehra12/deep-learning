{
  "nbformat": 4,
  "nbformat_minor": 0,
  "metadata": {
    "colab": {
      "name": "image_recognisation_mnist.ipynb",
      "version": "0.3.2",
      "provenance": [],
      "collapsed_sections": [],
      "include_colab_link": true
    },
    "kernelspec": {
      "name": "python3",
      "display_name": "Python 3"
    }
  },
  "cells": [
    {
      "cell_type": "markdown",
      "metadata": {
        "id": "view-in-github",
        "colab_type": "text"
      },
      "source": [
        "<a href=\"https://colab.research.google.com/github/SaloniMehra12/deep-learning/blob/master/image_recognisation_mnist.ipynb\" target=\"_parent\"><img src=\"https://colab.research.google.com/assets/colab-badge.svg\" alt=\"Open In Colab\"/></a>"
      ]
    },
    {
      "metadata": {
        "id": "xw1oBnBs4dTw",
        "colab_type": "code",
        "colab": {}
      },
      "cell_type": "code",
      "source": [
        "# http://pytorch.org/\n",
        "from os.path import exists\n",
        "from wheel.pep425tags import get_abbr_impl, get_impl_ver, get_abi_tag\n",
        "platform = '{}{}-{}'.format(get_abbr_impl(), get_impl_ver(), get_abi_tag())\n",
        "cuda_output = !ldconfig -p|grep cudart.so|sed -e 's/.*\\.\\([0-9]*\\)\\.\\([0-9]*\\)$/cu\\1\\2/'\n",
        "accelerator = cuda_output[0] if exists('/dev/nvidia0') else 'cpu'\n",
        "\n",
        "!pip install -q http://download.pytorch.org/whl/{accelerator}/torch-0.4.1-{platform}-linux_x86_64.whl torchvision\n",
        "import torch"
      ],
      "execution_count": 0,
      "outputs": []
    },
    {
      "metadata": {
        "id": "VyvAZPotMyQU",
        "colab_type": "code",
        "colab": {}
      },
      "cell_type": "code",
      "source": [
        "%matplotlib inline\n",
        "%config InlineBackend.figure_format='retina'\n",
        "\n",
        "import numpy as np\n",
        "import torch\n",
        "import helper\n",
        "import matplotlib.pyplot as plt"
      ],
      "execution_count": 0,
      "outputs": []
    },
    {
      "metadata": {
        "id": "2OUIeUolNrDJ",
        "colab_type": "code",
        "colab": {
          "base_uri": "https://localhost:8080/",
          "height": 126
        },
        "outputId": "b778ca08-af71-4471-bc18-5de4ed2e6aae"
      },
      "cell_type": "code",
      "source": [
        "from torchvision import datasets,transforms\n",
        "transform=transforms.Compose([transforms.ToTensor(),transforms.Normalize((0.5,0.5,0.5),(0.5,0.5,0.5)),])\n",
        "trainset=datasets.MNIST('MNIST_data/',download=True,train=True,transform=transform)\n",
        "trainloader=torch.utils.data.DataLoader(trainset,batch_size=64,shuffle=True)"
      ],
      "execution_count": 4,
      "outputs": [
        {
          "output_type": "stream",
          "text": [
            "Downloading http://yann.lecun.com/exdb/mnist/train-images-idx3-ubyte.gz\n",
            "Downloading http://yann.lecun.com/exdb/mnist/train-labels-idx1-ubyte.gz\n",
            "Downloading http://yann.lecun.com/exdb/mnist/t10k-images-idx3-ubyte.gz\n",
            "Downloading http://yann.lecun.com/exdb/mnist/t10k-labels-idx1-ubyte.gz\n",
            "Processing...\n",
            "Done!\n"
          ],
          "name": "stdout"
        }
      ]
    },
    {
      "metadata": {
        "id": "V1q2cQvBPii0",
        "colab_type": "code",
        "outputId": "c6767aab-9d3a-4df1-f3fe-5ba0990322d1",
        "colab": {
          "base_uri": "https://localhost:8080/",
          "height": 72
        }
      },
      "cell_type": "code",
      "source": [
        "dataiter=iter(trainloader)\n",
        "images,labels=dataiter.next()\n",
        "print(type(images))\n",
        "print(images.shape)\n",
        "print(labels.shape)"
      ],
      "execution_count": 6,
      "outputs": [
        {
          "output_type": "stream",
          "text": [
            "<class 'torch.Tensor'>\n",
            "torch.Size([64, 1, 28, 28])\n",
            "torch.Size([64])\n"
          ],
          "name": "stdout"
        }
      ]
    },
    {
      "metadata": {
        "id": "eetfWKL-QYIp",
        "colab_type": "code",
        "outputId": "e2574dcc-d468-43f9-e06b-7465ad3af67e",
        "colab": {
          "base_uri": "https://localhost:8080/",
          "height": 265
        }
      },
      "cell_type": "code",
      "source": [
        "plt.imshow(images[1].numpy().squeeze(),cmap='OrRd_r');\n",
        "#we can use color like Grey_r,Blues_r ,OrRd_r etc"
      ],
      "execution_count": 57,
      "outputs": [
        {
          "output_type": "display_data",
          "data": {
            "image/png": "[encoded data removed]",
            "text/plain": [
              "<matplotlib.figure.Figure at 0x7f4bbbcaa400>"
            ]
          },
          "metadata": {
            "tags": [],
            "image/png": {
              "width": 249,
              "height": 248
            }
          }
        }
      ]
    },
    {
      "metadata": {
        "id": "mm8jw_4IVU21",
        "colab_type": "code",
        "colab": {}
      },
      "cell_type": "code",
      "source": [
        "x=torch.Tensor\n",
        "def activation(x):\n",
        "  return (1/(1+torch.exp(-x)))"
      ],
      "execution_count": 0,
      "outputs": []
    },
    {
      "metadata": {
        "id": "a1QUBQcURm1W",
        "colab_type": "code",
        "outputId": "8ca10e24-c10d-4bed-a547-33d6d92d392c",
        "colab": {
          "base_uri": "https://localhost:8080/",
          "height": 855
        }
      },
      "cell_type": "code",
      "source": [
        "\n",
        "feature=images.view(images.shape[0],-1)#matrix of 1*3\n",
        "n_input=784\n",
        "n_hidden=256 #hidden layer\n",
        "n_output=10 #output layer\n",
        "w1=torch.randn(n_input,n_hidden) #random weight generation from [input * hidden layer ] size matrix\n",
        "w2=torch.randn(n_hidden,n_output) #random second weight generation[hidden *output layer] size matrix\n",
        "b1=torch.randn((1,n_hidden)) #randoom bias generation from [single layer of column of hidden size]matrix\n",
        "b2=torch.randn((1,n_output)) #random bias generation from [single layer of column of output size]matrix\n",
        "print(w1,w2,b1,b2)\n"
      ],
      "execution_count": 11,
      "outputs": [
        {
          "output_type": "stream",
          "text": [
            "tensor([[ 1.2401,  0.6119, -0.7522,  ..., -0.4393, -1.1109, -0.2553],\n",
            "        [-0.6357, -1.0724,  0.9085,  ...,  1.4812, -1.0297, -0.9147],\n",
            "        [-0.6589,  0.4041,  0.0598,  ..., -0.7381,  0.0535, -1.6016],\n",
            "        ...,\n",
            "        [ 0.0819, -1.5979,  0.5813,  ...,  0.1575, -0.0856, -0.8229],\n",
            "        [-0.3788,  1.8817,  1.1558,  ...,  1.5849, -0.9369,  0.4077],\n",
            "        [-0.7353,  0.1451,  0.4275,  ..., -1.4813,  0.8111,  1.5010]]) tensor([[ 1.2570,  0.1806,  0.7307,  ..., -0.3524, -0.4457,  0.3169],\n",
            "        [ 0.6007,  0.2097,  1.5592,  ...,  0.4364, -0.7618,  0.0876],\n",
            "        [-0.7693, -0.7884,  0.1058,  ..., -0.3038,  0.9878,  0.4879],\n",
            "        ...,\n",
            "        [ 0.2820,  0.8210,  1.2095,  ..., -0.6403, -0.2085, -0.6635],\n",
            "        [ 0.9243,  0.1330, -0.4416,  ..., -0.0902, -0.9233, -1.3538],\n",
            "        [ 0.1811, -1.7741,  0.2204,  ..., -0.2976, -0.6332,  0.1463]]) tensor([[ 0.4599, -1.9391, -0.9932, -1.0655, -0.0459,  0.3262, -0.3965,  0.1708,\n",
            "         -0.4424, -1.0888, -0.4923,  0.9427, -1.1876, -0.2103, -1.1553,  0.5132,\n",
            "          0.9536, -0.1509, -0.4302,  0.2393, -2.5722, -1.0464, -0.0796, -0.0507,\n",
            "          1.5607,  0.5677, -0.7542, -2.6451,  0.8343, -0.0109,  1.6688, -0.7841,\n",
            "         -1.4051, -1.0405, -0.5529,  0.6178, -0.6369, -2.1342,  0.0974,  0.0443,\n",
            "          1.1962,  1.3885, -1.3616, -0.8676, -1.1592,  1.7582, -0.4994,  2.3055,\n",
            "          1.4669, -0.6634,  0.6823,  0.6191, -0.2762,  1.1658, -0.3485,  1.0084,\n",
            "          1.2381, -0.5372,  0.9112,  1.2704, -0.3354,  0.3336,  0.1604,  0.6519,\n",
            "         -0.3463, -0.3951,  0.6429,  1.1432, -0.4379, -0.2677,  0.0795, -0.1085,\n",
            "         -0.2078,  0.3973,  0.4427,  0.2795, -0.2393,  0.6024, -1.7069,  0.2423,\n",
            "         -1.5408,  0.7330,  0.3203, -0.0125, -1.0127, -1.5695,  1.2037,  0.7584,\n",
            "         -0.2006,  1.7396,  0.6046, -2.3675,  0.5228, -0.1788, -1.1198,  0.1451,\n",
            "         -0.2084,  0.1284,  0.5379,  0.4140,  0.7535,  0.9339,  1.7990,  0.4153,\n",
            "          2.3156, -0.0351, -0.3636, -1.9079, -1.0467, -1.9625,  0.0221, -0.8015,\n",
            "          0.6910, -0.4454,  1.1180, -0.4859,  0.7130,  0.5662,  0.4926,  0.5300,\n",
            "          1.5878, -0.2615, -1.3332, -0.7256, -1.1992,  0.2962, -1.1428, -0.3607,\n",
            "         -1.3941, -0.2190,  0.4680, -0.5787,  0.0161,  1.7385, -1.4980, -1.0055,\n",
            "          0.7972, -1.6221, -0.9847,  0.3722, -0.0897,  0.7342, -0.7910, -1.6906,\n",
            "         -0.5624,  1.3309,  2.6759,  1.9300, -0.0054, -0.0890,  0.7578, -0.5030,\n",
            "          1.5343, -1.7697, -0.8341, -0.4314, -0.6789, -0.6752,  0.0619, -0.1112,\n",
            "          0.1934, -1.0986,  1.8650, -1.7515,  0.7905, -0.1380,  1.3995, -1.1061,\n",
            "         -2.2817, -0.9771,  0.8443, -1.6561, -0.2550, -0.6972,  0.8027,  0.8169,\n",
            "          0.1807,  2.4593,  1.6414, -0.4164, -0.8532,  0.1221, -0.3753,  0.5993,\n",
            "         -0.4288,  1.4971, -0.0445, -2.0111,  0.1994, -0.9754, -0.4336, -0.6281,\n",
            "          0.4951, -0.4940,  0.6632,  0.0218,  0.1902, -0.1613, -0.6484, -0.7336,\n",
            "          1.3506,  0.0806,  2.2739,  0.4682, -0.8227,  1.4024,  0.3162,  0.1272,\n",
            "         -0.2478, -0.3988, -0.7730,  0.0290,  0.7000,  0.6358, -0.8718,  0.7368,\n",
            "          0.8714, -0.6910,  0.2287, -0.3966,  0.5369,  0.2666, -0.6166,  0.1284,\n",
            "          1.4386,  1.0416,  0.3658, -1.2900, -0.8637,  0.2253,  0.1578, -0.2606,\n",
            "         -0.9764, -0.6655, -1.7021,  0.0602,  2.1709,  0.1397,  0.3762, -0.0666,\n",
            "         -1.5449,  2.0138,  1.0057, -0.8055, -0.9899,  1.0169,  0.0717, -0.3417,\n",
            "         -0.4191,  0.3031, -1.3352, -0.4000,  0.4652,  2.2094, -0.1627,  0.0390]]) tensor([[ 0.4025, -0.5732, -0.6019, -1.8239, -0.4041, -0.3145,  0.4307, -0.6875,\n",
            "         -1.0643,  1.3046]])\n"
          ],
          "name": "stdout"
        }
      ]
    },
    {
      "metadata": {
        "id": "fMfY1FJeRwWs",
        "colab_type": "code",
        "outputId": "e5faa806-b1fe-41d1-e6b9-2777dbf201b8",
        "colab": {
          "base_uri": "https://localhost:8080/",
          "height": 2345
        }
      },
      "cell_type": "code",
      "source": [
        "#solution\n",
        "h=activation(torch.matmul(feature,w1)+b1) \n",
        "output=activation(torch.matmul(h,w2)+b2)\n",
        "print(output)"
      ],
      "execution_count": 12,
      "outputs": [
        {
          "output_type": "stream",
          "text": [
            "tensor([[6.7753e-02, 5.9983e-10, 6.3462e-04, 8.7430e-01, 9.6750e-01, 2.8427e-07,\n",
            "         1.3604e-02, 3.0095e-06, 1.1172e-08, 9.9906e-01],\n",
            "        [1.0745e-02, 1.1994e-08, 1.9202e-06, 5.9314e-01, 2.5964e-01, 9.9420e-01,\n",
            "         2.5185e-01, 2.6049e-04, 1.3508e-02, 1.0000e+00],\n",
            "        [2.0742e-07, 3.3991e-09, 3.7668e-06, 8.3125e-03, 1.6150e-01, 9.9502e-01,\n",
            "         8.5891e-01, 8.7209e-10, 8.8693e-03, 9.9991e-01],\n",
            "        [9.8025e-01, 1.2717e-08, 2.0198e-07, 2.6300e-03, 9.8929e-01, 9.9988e-01,\n",
            "         9.9947e-01, 4.8630e-07, 6.0683e-04, 9.9821e-01],\n",
            "        [1.6886e-02, 3.3415e-14, 5.7519e-07, 1.0000e+00, 7.3875e-02, 4.1214e-03,\n",
            "         1.0432e-04, 3.0841e-05, 2.7242e-05, 9.9981e-01],\n",
            "        [1.2247e-01, 6.6080e-12, 2.5295e-03, 9.2132e-01, 9.3970e-01, 9.3739e-01,\n",
            "         5.0299e-02, 5.4644e-06, 6.1693e-01, 8.7724e-01],\n",
            "        [7.9011e-06, 2.9117e-12, 1.0223e-08, 9.3867e-01, 3.7493e-02, 9.5717e-01,\n",
            "         9.9323e-01, 3.9304e-06, 1.4937e-09, 9.9831e-01],\n",
            "        [2.4265e-04, 8.5320e-10, 3.7038e-05, 9.9990e-01, 9.1471e-01, 9.9709e-01,\n",
            "         1.2549e-04, 3.4394e-10, 1.1389e-07, 1.0000e+00],\n",
            "        [2.1413e-02, 1.6668e-07, 9.6277e-04, 5.5440e-03, 4.3983e-01, 5.6854e-01,\n",
            "         1.0946e-01, 5.1728e-09, 2.0787e-04, 9.9987e-01],\n",
            "        [7.2214e-08, 5.5433e-12, 1.2103e-03, 2.0848e-02, 9.9864e-01, 6.9455e-01,\n",
            "         2.9478e-02, 1.1253e-04, 1.3420e-03, 1.0000e+00],\n",
            "        [3.5311e-06, 2.0368e-14, 8.4504e-08, 9.9021e-01, 9.6341e-01, 5.0253e-02,\n",
            "         7.2321e-05, 6.2012e-01, 3.5324e-03, 9.9999e-01],\n",
            "        [1.8892e-04, 9.6178e-08, 7.1501e-07, 9.7660e-01, 9.7706e-01, 6.2149e-01,\n",
            "         9.8383e-01, 4.6281e-06, 9.7535e-02, 9.8896e-01],\n",
            "        [6.3113e-05, 2.0879e-12, 1.7520e-07, 4.6315e-03, 9.2528e-01, 7.9503e-06,\n",
            "         8.2458e-01, 3.3064e-09, 7.2604e-08, 1.0000e+00],\n",
            "        [5.8443e-03, 4.1228e-12, 2.5383e-01, 9.2845e-01, 9.9998e-01, 9.8605e-01,\n",
            "         9.4318e-01, 1.4805e-07, 3.2001e-03, 9.9800e-01],\n",
            "        [1.9976e-05, 1.1999e-11, 1.6609e-08, 9.9693e-01, 9.9998e-01, 7.5771e-01,\n",
            "         9.3651e-01, 7.7110e-03, 4.6689e-07, 1.0000e+00],\n",
            "        [1.9427e-07, 8.7365e-12, 7.9160e-03, 9.9419e-01, 9.9618e-01, 2.3667e-02,\n",
            "         5.4570e-01, 2.5482e-07, 8.4294e-12, 1.0000e+00],\n",
            "        [2.9147e-05, 7.5273e-11, 7.3253e-03, 9.9849e-01, 9.9748e-01, 9.9554e-01,\n",
            "         9.8878e-01, 8.4316e-08, 1.6816e-03, 9.9633e-01],\n",
            "        [5.8879e-04, 3.4158e-12, 3.3490e-07, 1.0000e+00, 9.9101e-01, 9.9999e-01,\n",
            "         1.2364e-02, 5.5021e-04, 3.1939e-06, 9.9993e-01],\n",
            "        [3.4231e-08, 9.1294e-10, 1.5186e-08, 5.7458e-01, 9.5559e-01, 5.0808e-01,\n",
            "         9.9985e-01, 1.1149e-08, 7.7463e-03, 9.9989e-01],\n",
            "        [3.5531e-04, 1.0677e-12, 7.6196e-08, 9.9995e-01, 9.7505e-01, 5.3149e-01,\n",
            "         3.0454e-02, 2.1142e-05, 1.7926e-02, 9.9808e-01],\n",
            "        [1.2040e-06, 2.4061e-10, 8.5640e-07, 1.0000e+00, 9.8927e-01, 9.8079e-01,\n",
            "         9.6764e-02, 1.5108e-01, 9.6998e-09, 1.0000e+00],\n",
            "        [4.8284e-01, 9.1013e-11, 2.2330e-03, 9.9988e-01, 1.2075e-01, 1.0000e+00,\n",
            "         1.7226e-05, 6.2857e-08, 7.6610e-06, 9.9791e-01],\n",
            "        [2.0790e-08, 2.4820e-12, 4.3249e-06, 9.1531e-01, 9.9695e-01, 7.6301e-01,\n",
            "         9.9822e-01, 1.0938e-05, 5.4867e-04, 9.9999e-01],\n",
            "        [5.7405e-08, 8.5110e-11, 3.4272e-05, 6.8335e-03, 3.9269e-01, 9.9783e-01,\n",
            "         9.4505e-01, 2.0643e-07, 5.5167e-01, 1.0000e+00],\n",
            "        [1.7302e-04, 2.0168e-10, 8.2275e-05, 1.0113e-01, 1.0000e+00, 9.8985e-01,\n",
            "         9.9973e-01, 3.7661e-04, 2.6381e-06, 9.9735e-01],\n",
            "        [2.2843e-09, 1.9243e-07, 8.1120e-04, 9.9469e-01, 9.8156e-01, 9.9923e-01,\n",
            "         9.9997e-01, 7.0077e-04, 1.2171e-02, 9.9983e-01],\n",
            "        [2.4568e-04, 7.4923e-07, 4.8866e-05, 9.9998e-01, 9.9742e-01, 1.0000e+00,\n",
            "         9.5565e-01, 4.5762e-06, 1.0912e-03, 9.8476e-01],\n",
            "        [2.6321e-08, 9.6246e-11, 8.2793e-06, 9.9725e-01, 1.1546e-01, 9.9983e-01,\n",
            "         9.7895e-01, 9.9873e-08, 3.9689e-04, 9.9973e-01],\n",
            "        [8.7189e-03, 2.2966e-12, 4.0980e-07, 1.5353e-02, 9.9993e-01, 9.9853e-01,\n",
            "         4.1954e-04, 2.2207e-05, 4.0760e-04, 9.9999e-01],\n",
            "        [4.7704e-03, 5.7828e-11, 3.6871e-08, 1.0000e+00, 9.9603e-01, 2.8039e-01,\n",
            "         2.2155e-04, 8.4087e-08, 2.7031e-03, 9.3172e-01],\n",
            "        [1.0882e-08, 9.1079e-12, 1.3488e-05, 9.5133e-01, 1.0000e+00, 9.4575e-01,\n",
            "         9.9314e-01, 2.5897e-09, 3.5586e-02, 9.9906e-01],\n",
            "        [5.7495e-05, 9.0931e-09, 2.5752e-05, 9.9997e-01, 3.2169e-01, 9.9908e-01,\n",
            "         3.0285e-02, 2.1704e-04, 1.9006e-03, 1.0000e+00],\n",
            "        [5.5420e-10, 5.7394e-11, 7.9251e-05, 9.9807e-01, 1.6620e-02, 6.1531e-03,\n",
            "         2.7405e-03, 1.0057e-06, 1.6818e-06, 1.0000e+00],\n",
            "        [4.3613e-04, 1.5677e-14, 4.7707e-08, 9.9996e-01, 7.9399e-01, 2.1541e-01,\n",
            "         1.5357e-01, 7.5084e-02, 4.4383e-06, 1.0000e+00],\n",
            "        [4.3733e-06, 5.0733e-16, 3.3646e-05, 9.9029e-01, 9.9989e-01, 4.3639e-01,\n",
            "         1.3346e-01, 4.5945e-05, 2.1605e-05, 1.0000e+00],\n",
            "        [6.0805e-04, 6.0946e-11, 3.5476e-06, 5.5590e-02, 9.9701e-01, 9.9973e-01,\n",
            "         9.9982e-01, 1.6765e-09, 4.3569e-05, 9.9999e-01],\n",
            "        [5.3296e-01, 2.4274e-09, 2.8586e-05, 1.5630e-01, 1.2432e-03, 2.1070e-04,\n",
            "         3.2327e-04, 9.7829e-07, 4.4143e-06, 1.0000e+00],\n",
            "        [3.9666e-01, 6.8508e-11, 3.8134e-04, 7.7646e-01, 2.2933e-02, 2.8404e-04,\n",
            "         1.7793e-01, 1.3990e-01, 9.9590e-01, 9.9200e-01],\n",
            "        [2.9052e-03, 2.5113e-08, 2.5436e-02, 3.8665e-02, 5.0682e-02, 2.2185e-03,\n",
            "         7.7000e-01, 2.2640e-04, 4.9572e-01, 8.6557e-02],\n",
            "        [2.3081e-03, 5.1435e-10, 2.4678e-06, 9.9835e-01, 1.5777e-03, 3.3574e-03,\n",
            "         1.6134e-04, 2.2720e-05, 1.4556e-08, 1.0000e+00],\n",
            "        [1.5121e-05, 5.4411e-12, 1.5763e-02, 9.7546e-01, 4.9085e-01, 9.2816e-01,\n",
            "         3.0026e-07, 1.5023e-07, 9.0367e-08, 1.0000e+00],\n",
            "        [2.3592e-04, 2.3602e-07, 2.2931e-02, 3.5940e-02, 3.9538e-01, 9.8501e-01,\n",
            "         8.8796e-01, 1.9991e-05, 4.8199e-07, 1.0000e+00],\n",
            "        [2.2557e-04, 2.1010e-11, 3.0300e-04, 1.7744e-01, 9.9951e-01, 9.1703e-01,\n",
            "         9.2058e-01, 5.3589e-02, 5.1935e-06, 9.9993e-01],\n",
            "        [3.8200e-05, 3.3860e-14, 1.5757e-06, 6.8775e-01, 1.6450e-01, 3.1303e-05,\n",
            "         1.2705e-01, 2.5114e-03, 1.6838e-05, 9.9999e-01],\n",
            "        [1.0667e-05, 1.1107e-10, 1.3164e-01, 8.3459e-01, 9.5326e-01, 9.8632e-01,\n",
            "         2.8746e-01, 1.6154e-05, 8.7584e-05, 1.0000e+00],\n",
            "        [2.7959e-02, 8.6856e-11, 6.1471e-05, 9.7457e-01, 1.7275e-04, 9.9911e-01,\n",
            "         1.1763e-03, 8.2950e-04, 2.5826e-03, 1.0000e+00],\n",
            "        [3.4449e-02, 1.8639e-10, 2.9654e-06, 9.9634e-01, 1.0000e+00, 9.9989e-01,\n",
            "         8.5014e-02, 6.3730e-01, 7.4287e-04, 9.9094e-01],\n",
            "        [3.7714e-05, 5.5245e-12, 1.2694e-04, 9.8702e-01, 9.9046e-01, 9.6270e-01,\n",
            "         3.1485e-04, 7.9401e-04, 5.1123e-04, 9.9826e-01],\n",
            "        [9.3503e-01, 1.1356e-09, 4.6656e-04, 8.7058e-01, 4.5571e-01, 3.9860e-03,\n",
            "         9.5968e-03, 1.5059e-08, 5.6781e-07, 9.9999e-01],\n",
            "        [8.5019e-05, 1.7791e-11, 1.2688e-06, 5.7805e-01, 1.0000e+00, 9.0137e-01,\n",
            "         2.0633e-06, 1.2044e-07, 1.0348e-03, 9.9978e-01],\n",
            "        [9.3472e-07, 2.6112e-12, 1.5761e-07, 9.7769e-01, 9.9978e-01, 6.1561e-02,\n",
            "         1.0438e-07, 1.7067e-03, 4.6123e-04, 9.9971e-01],\n",
            "        [2.4756e-06, 8.1278e-14, 3.2764e-08, 9.8867e-01, 9.9186e-01, 9.9974e-01,\n",
            "         4.3406e-01, 4.7642e-07, 1.6428e-06, 1.0000e+00],\n",
            "        [2.7994e-06, 1.5266e-13, 3.7218e-03, 9.9878e-01, 9.9402e-01, 1.4632e-04,\n",
            "         2.4638e-02, 2.4965e-07, 2.2257e-06, 1.0000e+00],\n",
            "        [9.4057e-02, 4.3361e-13, 1.5821e-02, 9.4754e-01, 5.5828e-01, 7.5126e-03,\n",
            "         1.4630e-03, 2.4952e-10, 8.3093e-02, 1.0000e+00],\n",
            "        [8.6293e-06, 1.7669e-08, 2.9022e-09, 9.9999e-01, 7.3034e-01, 9.9230e-01,\n",
            "         1.3747e-02, 5.9448e-05, 1.5257e-09, 1.0000e+00],\n",
            "        [2.3187e-03, 7.1800e-09, 7.7093e-02, 8.7086e-01, 9.4281e-01, 9.8205e-01,\n",
            "         9.2373e-01, 1.0835e-06, 2.0767e-02, 1.0000e+00],\n",
            "        [7.9102e-06, 6.1399e-13, 1.0290e-06, 1.0000e+00, 9.9998e-01, 1.7958e-01,\n",
            "         1.8329e-05, 3.3841e-08, 2.3672e-07, 1.0000e+00],\n",
            "        [1.4468e-08, 5.9276e-11, 3.2781e-05, 1.0411e-01, 9.9998e-01, 9.9554e-01,\n",
            "         9.1425e-01, 7.2976e-13, 2.6050e-02, 9.9558e-01],\n",
            "        [1.7864e-01, 7.0881e-10, 1.4362e-05, 9.9224e-01, 5.0035e-01, 3.9984e-01,\n",
            "         9.9888e-01, 3.2907e-03, 3.2676e-02, 9.9957e-01],\n",
            "        [1.8675e-09, 6.4107e-08, 2.1306e-03, 9.7542e-01, 6.3555e-02, 7.0126e-01,\n",
            "         3.4766e-03, 2.7927e-05, 2.3287e-05, 1.0000e+00],\n",
            "        [2.1108e-06, 1.2222e-10, 5.7010e-05, 8.5924e-05, 7.0834e-01, 9.4413e-01,\n",
            "         9.9914e-01, 3.8608e-06, 7.9358e-03, 9.9959e-01],\n",
            "        [1.8429e-05, 4.6061e-13, 3.6860e-04, 7.2203e-02, 7.9546e-01, 9.9710e-01,\n",
            "         2.3673e-01, 5.4236e-03, 4.4247e-05, 9.9984e-01],\n",
            "        [1.0735e-02, 6.9070e-13, 5.3967e-07, 9.9998e-01, 9.8408e-01, 6.0203e-01,\n",
            "         1.4871e-05, 1.2971e-04, 1.1922e-05, 1.0000e+00],\n",
            "        [2.2416e-06, 3.4235e-11, 2.0080e-02, 9.6766e-01, 9.9946e-01, 9.9994e-01,\n",
            "         7.4769e-01, 1.6198e-06, 5.0504e-02, 9.9999e-01]])\n"
          ],
          "name": "stdout"
        }
      ]
    },
    {
      "metadata": {
        "id": "Fao2pl5J5vWM",
        "colab_type": "code",
        "colab": {}
      },
      "cell_type": "code",
      "source": [
        "from torch import nn"
      ],
      "execution_count": 0,
      "outputs": []
    },
    {
      "metadata": {
        "id": "gPUf3v_O53rR",
        "colab_type": "code",
        "colab": {}
      },
      "cell_type": "code",
      "source": [
        "class Network(nn.Module):\n",
        "  def __init__(self):\n",
        "    super().__init__()\n",
        "    #input to hiden layers\n",
        "    self.hidden=nn.Linear(784,256)\n",
        "    #input to ooutput layers\n",
        "    self.output=nn.Linear(256,10)\n",
        "    self.sigmoid=nn.Sigmoid()\n",
        "    self.softmax=nn.Softmax(dim=1)\n",
        "  def forward(self,x):\n",
        "    x=self.hidden(x)\n",
        "    x=self.output(x)\n",
        "    x=self.sigmoid(x)\n",
        "    x=self.softmax(x)\n",
        "    retun(x)"
      ],
      "execution_count": 0,
      "outputs": []
    },
    {
      "metadata": {
        "id": "_B57UUQ9-uij",
        "colab_type": "code",
        "colab": {}
      },
      "cell_type": "code",
      "source": [
        "import torch.nn.functional as F\n",
        "from torch import optim"
      ],
      "execution_count": 0,
      "outputs": []
    },
    {
      "metadata": {
        "id": "5n-ovMSz8srw",
        "colab_type": "code",
        "colab": {}
      },
      "cell_type": "code",
      "source": [
        "class Network1(nn.Module):\n",
        "  def __init__(self):\n",
        "    super().__init()\n",
        "    #input to hidden layers\n",
        "    self.hidden=nn.Linear(784,256)\n",
        "    #inpput to output layers\n",
        "    self.output=nn.Linear(256,10)\n",
        "  def forward(self,x):\n",
        "    x=F.Sigmoid(self.hidden)\n",
        "    x=F.Softmax(sel.output)\n",
        "    return x"
      ],
      "execution_count": 0,
      "outputs": []
    },
    {
      "metadata": {
        "id": "2pJ_V7ln-6Of",
        "colab_type": "code",
        "colab": {
          "base_uri": "https://localhost:8080/",
          "height": 108
        },
        "outputId": "f0922d49-d3b3-432d-aa51-485ee96a6d7c"
      },
      "cell_type": "code",
      "source": [
        "model=nn.Sequential(nn.Linear(784,128),nn.ReLU(),nn.Linear(128,64),nn.ReLU(),nn.Linear(64,10),nn.ReLU(),nn.LogSoftmax(dim=1))\n",
        "criterion=nn.NLLLoss()\n",
        "optimizer=optim.SGD(model.parameters(),lr=0.003)#traning data\n",
        "epochs=5\n",
        "for e in range(epochs):\n",
        "  running_loss=0\n",
        "  for images,labels in trainloader:\n",
        "    images=images.view(images.shape[0],-1)\n",
        "    optimizer.zero_grad()\n",
        "    output=model.forward(images)\n",
        "    loss=criterion(output,labels)\n",
        "    loss.backward()\n",
        "    optimizer.step()\n",
        "    running_loss+=loss.item()\n",
        "  else:\n",
        "    print({running_loss/len(trainloader)})"
      ],
      "execution_count": 46,
      "outputs": [
        {
          "output_type": "stream",
          "text": [
            "{1.922237986821864}\n",
            "{0.8603356657569596}\n",
            "{0.532098594631976}\n",
            "{0.43428548519164006}\n",
            "{0.38618509692233255}\n"
          ],
          "name": "stdout"
        }
      ]
    },
    {
      "metadata": {
        "id": "SvOhTTDQHO4B",
        "colab_type": "code",
        "colab": {
          "resources": {
            "http://localhost:8080/nbextensions/google.colab/files.js": {
              "data": "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",
              "ok": true,
              "headers": [
                [
                  "content-type",
                  "application/javascript"
                ]
              ],
              "status": 200,
              "status_text": ""
            }
          },
          "base_uri": "https://localhost:8080/",
          "height": 73
        },
        "outputId": "7fb8f31d-c332-4519-b644-0a0ec0f21144"
      },
      "cell_type": "code",
      "source": [
        "#used to import from colab\n",
        "from google.colab import files\n",
        "files.upload()\n",
        "# choose the file on your computer to upload it then\n",
        "import helper"
      ],
      "execution_count": 30,
      "outputs": [
        {
          "output_type": "display_data",
          "data": {
            "text/html": [
              "\n",
              "     <input type=\"file\" id=\"files-454c102d-9c5a-4827-aba7-852d00e062aa\" name=\"files[]\" multiple disabled />\n",
              "     <output id=\"result-454c102d-9c5a-4827-aba7-852d00e062aa\">\n",
              "      Upload widget is only available when the cell has been executed in the\n",
              "      current browser session. Please rerun this cell to enable.\n",
              "      </output>\n",
              "      <script src=\"/nbextensions/google.colab/files.js\"></script> "
            ],
            "text/plain": [
              "<IPython.core.display.HTML object>"
            ]
          },
          "metadata": {
            "tags": []
          }
        },
        {
          "output_type": "stream",
          "text": [
            "Saving helper.py to helper.py\n"
          ],
          "name": "stdout"
        }
      ]
    },
    {
      "metadata": {
        "id": "9G9CCbwMIE-R",
        "colab_type": "code",
        "colab": {}
      },
      "cell_type": "code",
      "source": [
        "import helper\n"
      ],
      "execution_count": 0,
      "outputs": []
    },
    {
      "metadata": {
        "id": "l23llh-qLcXV",
        "colab_type": "code",
        "colab": {}
      },
      "cell_type": "code",
      "source": [
        "def view_classify(img, ps, version=\"MNIST\"):\n",
        "    ''' Function for viewing an image and it's predicted classes.\n",
        "    '''\n",
        "    ps = ps.data.numpy().squeeze()\n",
        "\n",
        "    fig, (ax1, ax2) = plt.subplots(figsize=(6,9), ncols=2)\n",
        "    ax1.imshow(img.resize_(1, 28, 28).numpy().squeeze())\n",
        "    ax1.axis('off')\n",
        "    ax2.barh(np.arange(10), ps)\n",
        "    ax2.set_aspect(0.1)\n",
        "    ax2.set_yticks(np.arange(10))\n",
        "    if version == \"MNIST\":\n",
        "        ax2.set_yticklabels(np.arange(10))\n",
        "    elif version == \"Fashion\":\n",
        "        ax2.set_yticklabels(['T-shirt/top',\n",
        "                            'Trouser',\n",
        "                            'Pullover',\n",
        "                            'Dress',\n",
        "                            'Coat',\n",
        "                            'Sandal',\n",
        "                            'Shirt',\n",
        "                            'Sneaker',\n",
        "                            'Bag',\n",
        "                            'Ankle Boot'], size='small');\n",
        "    ax2.set_title('Class Probability')\n",
        "    ax2.set_xlim(0, 1.1)\n",
        "    plt.tight_layout()\n"
      ],
      "execution_count": 0,
      "outputs": []
    },
    {
      "metadata": {
        "id": "qgOFgCxqEUt5",
        "colab_type": "code",
        "colab": {
          "base_uri": "https://localhost:8080/",
          "height": 245
        },
        "outputId": "298df076-d19d-4e98-f78f-49b98a296276"
      },
      "cell_type": "code",
      "source": [
        "%matplotlib inline\n",
        "images,labels=next(iter(trainloader))\n",
        "img=images[0].view(1,784)\n",
        "with torch.no_grad():\n",
        "  logits=model.forward(img)\n",
        "ps=F.softmax(logits,dim=1)\n",
        "view_classify(img.view(1,28,28),ps)"
      ],
      "execution_count": 63,
      "outputs": [
        {
          "output_type": "display_data",
          "data": {
            "image/png": "[encoded data removed]",
            "text/plain": [
              "<matplotlib.figure.Figure at 0x7f4bbbfe4f98>"
            ]
          },
          "metadata": {
            "tags": [],
            "image/png": {
              "width": 424,
              "height": 227
            }
          }
        }
      ]
    }
  ]
}