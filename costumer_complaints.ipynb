{
  "nbformat": 4,
  "nbformat_minor": 0,
  "metadata": {
    "colab": {
      "name": "costumer_complaints.ipynb",
      "version": "0.3.2",
      "provenance": [],
      "collapsed_sections": []
    },
    "kernelspec": {
      "name": "python3",
      "display_name": "Python 3"
    }
  },
  "cells": [
    {
      "metadata": {
        "id": "curkrnUBZFPH",
        "colab_type": "code",
        "outputId": "7f50d054-d766-4970-9a28-ca40f81929e2",
        "colab": {
          "base_uri": "https://localhost:8080/",
          "height": 34
        }
      },
      "cell_type": "code",
      "source": [
        "from google.colab import drive\n",
        "drive.mount('/content/gdrive')"
      ],
      "execution_count": 0,
      "outputs": [
        {
          "output_type": "stream",
          "text": [
            "Drive already mounted at /content/gdrive; to attempt to forcibly remount, call drive.mount(\"/content/gdrive\", force_remount=True).\n"
          ],
          "name": "stdout"
        }
      ]
    },
    {
      "metadata": {
        "id": "LIqmiydqaC5i",
        "colab_type": "code",
        "colab": {}
      },
      "cell_type": "code",
      "source": [
        "import pandas as pd\n",
        "df=pd.read_csv('gdrive/My Drive/Consumer_Complaints.csv')"
      ],
      "execution_count": 0,
      "outputs": []
    },
    {
      "metadata": {
        "id": "ZDdryANZZchM",
        "colab_type": "code",
        "outputId": "cd2f1512-29b7-45ae-b6df-b7ff7a6a3104",
        "colab": {
          "base_uri": "https://localhost:8080/",
          "height": 1008
        }
      },
      "cell_type": "code",
      "source": [
        "df.head(10)"
      ],
      "execution_count": 0,
      "outputs": [
        {
          "output_type": "execute_result",
          "data": {
            "text/html": [
              "<div>\n",
              "<style scoped>\n",
              "    .dataframe tbody tr th:only-of-type {\n",
              "        vertical-align: middle;\n",
              "    }\n",
              "\n",
              "    .dataframe tbody tr th {\n",
              "        vertical-align: top;\n",
              "    }\n",
              "\n",
              "    .dataframe thead th {\n",
              "        text-align: right;\n",
              "    }\n",
              "</style>\n",
              "<table border=\"1\" class=\"dataframe\">\n",
              "  <thead>\n",
              "    <tr style=\"text-align: right;\">\n",
              "      <th></th>\n",
              "      <th>Date received</th>\n",
              "      <th>Product</th>\n",
              "      <th>Sub-product</th>\n",
              "      <th>Issue</th>\n",
              "      <th>Sub-issue</th>\n",
              "      <th>Consumer complaint narrative</th>\n",
              "      <th>Company public response</th>\n",
              "      <th>Company</th>\n",
              "      <th>State</th>\n",
              "      <th>ZIP code</th>\n",
              "      <th>Tags</th>\n",
              "      <th>Consumer consent provided?</th>\n",
              "      <th>Submitted via</th>\n",
              "      <th>Date sent to company</th>\n",
              "      <th>Company response to consumer</th>\n",
              "      <th>Timely response?</th>\n",
              "      <th>Consumer disputed?</th>\n",
              "      <th>Complaint ID</th>\n",
              "    </tr>\n",
              "  </thead>\n",
              "  <tbody>\n",
              "    <tr>\n",
              "      <th>0</th>\n",
              "      <td>03/12/2014</td>\n",
              "      <td>Mortgage</td>\n",
              "      <td>Other mortgage</td>\n",
              "      <td>Loan modification,collection,foreclosure</td>\n",
              "      <td>NaN</td>\n",
              "      <td>NaN</td>\n",
              "      <td>NaN</td>\n",
              "      <td>M&amp;T BANK CORPORATION</td>\n",
              "      <td>MI</td>\n",
              "      <td>48382</td>\n",
              "      <td>NaN</td>\n",
              "      <td>NaN</td>\n",
              "      <td>Referral</td>\n",
              "      <td>03/17/2014</td>\n",
              "      <td>Closed with explanation</td>\n",
              "      <td>Yes</td>\n",
              "      <td>No</td>\n",
              "      <td>759217</td>\n",
              "    </tr>\n",
              "    <tr>\n",
              "      <th>1</th>\n",
              "      <td>01/19/2017</td>\n",
              "      <td>Student loan</td>\n",
              "      <td>Federal student loan servicing</td>\n",
              "      <td>Dealing with my lender or servicer</td>\n",
              "      <td>Received bad information about my loan</td>\n",
              "      <td>When my loan was switched over to Navient i wa...</td>\n",
              "      <td>NaN</td>\n",
              "      <td>Navient Solutions, LLC.</td>\n",
              "      <td>LA</td>\n",
              "      <td>NaN</td>\n",
              "      <td>NaN</td>\n",
              "      <td>Consent provided</td>\n",
              "      <td>Web</td>\n",
              "      <td>01/19/2017</td>\n",
              "      <td>Closed with explanation</td>\n",
              "      <td>Yes</td>\n",
              "      <td>No</td>\n",
              "      <td>2296496</td>\n",
              "    </tr>\n",
              "    <tr>\n",
              "      <th>2</th>\n",
              "      <td>04/06/2018</td>\n",
              "      <td>Credit card or prepaid card</td>\n",
              "      <td>General-purpose credit card or charge card</td>\n",
              "      <td>Other features, terms, or problems</td>\n",
              "      <td>Other problem</td>\n",
              "      <td>I tried to sign up for a spending monitoring p...</td>\n",
              "      <td>NaN</td>\n",
              "      <td>CAPITAL ONE FINANCIAL CORPORATION</td>\n",
              "      <td>VA</td>\n",
              "      <td>NaN</td>\n",
              "      <td>Older American</td>\n",
              "      <td>Consent provided</td>\n",
              "      <td>Web</td>\n",
              "      <td>04/06/2018</td>\n",
              "      <td>Closed with explanation</td>\n",
              "      <td>Yes</td>\n",
              "      <td>NaN</td>\n",
              "      <td>2866101</td>\n",
              "    </tr>\n",
              "    <tr>\n",
              "      <th>3</th>\n",
              "      <td>06/08/2014</td>\n",
              "      <td>Credit card</td>\n",
              "      <td>NaN</td>\n",
              "      <td>Bankruptcy</td>\n",
              "      <td>NaN</td>\n",
              "      <td>NaN</td>\n",
              "      <td>NaN</td>\n",
              "      <td>AMERICAN EXPRESS COMPANY</td>\n",
              "      <td>ID</td>\n",
              "      <td>83854</td>\n",
              "      <td>Older American</td>\n",
              "      <td>NaN</td>\n",
              "      <td>Web</td>\n",
              "      <td>06/10/2014</td>\n",
              "      <td>Closed with explanation</td>\n",
              "      <td>Yes</td>\n",
              "      <td>Yes</td>\n",
              "      <td>885638</td>\n",
              "    </tr>\n",
              "    <tr>\n",
              "      <th>4</th>\n",
              "      <td>09/13/2014</td>\n",
              "      <td>Debt collection</td>\n",
              "      <td>Credit card</td>\n",
              "      <td>Communication tactics</td>\n",
              "      <td>Frequent or repeated calls</td>\n",
              "      <td>NaN</td>\n",
              "      <td>NaN</td>\n",
              "      <td>CITIBANK, N.A.</td>\n",
              "      <td>VA</td>\n",
              "      <td>23233</td>\n",
              "      <td>NaN</td>\n",
              "      <td>NaN</td>\n",
              "      <td>Web</td>\n",
              "      <td>09/13/2014</td>\n",
              "      <td>Closed with explanation</td>\n",
              "      <td>Yes</td>\n",
              "      <td>Yes</td>\n",
              "      <td>1027760</td>\n",
              "    </tr>\n",
              "    <tr>\n",
              "      <th>5</th>\n",
              "      <td>11/13/2013</td>\n",
              "      <td>Mortgage</td>\n",
              "      <td>Conventional adjustable mortgage (ARM)</td>\n",
              "      <td>Loan servicing, payments, escrow account</td>\n",
              "      <td>NaN</td>\n",
              "      <td>NaN</td>\n",
              "      <td>NaN</td>\n",
              "      <td>U.S. BANCORP</td>\n",
              "      <td>MN</td>\n",
              "      <td>48322</td>\n",
              "      <td>NaN</td>\n",
              "      <td>NaN</td>\n",
              "      <td>Phone</td>\n",
              "      <td>11/20/2013</td>\n",
              "      <td>Closed with monetary relief</td>\n",
              "      <td>Yes</td>\n",
              "      <td>No</td>\n",
              "      <td>596562</td>\n",
              "    </tr>\n",
              "    <tr>\n",
              "      <th>6</th>\n",
              "      <td>06/16/2015</td>\n",
              "      <td>Debt collection</td>\n",
              "      <td>Medical</td>\n",
              "      <td>Improper contact or sharing of info</td>\n",
              "      <td>Contacted employer after asked not to</td>\n",
              "      <td>NaN</td>\n",
              "      <td>Company believes it acted appropriately as aut...</td>\n",
              "      <td>California Accounts Service</td>\n",
              "      <td>CA</td>\n",
              "      <td>92111</td>\n",
              "      <td>NaN</td>\n",
              "      <td>Consent not provided</td>\n",
              "      <td>Web</td>\n",
              "      <td>06/19/2015</td>\n",
              "      <td>Closed with explanation</td>\n",
              "      <td>Yes</td>\n",
              "      <td>No</td>\n",
              "      <td>1422680</td>\n",
              "    </tr>\n",
              "    <tr>\n",
              "      <th>7</th>\n",
              "      <td>08/22/2018</td>\n",
              "      <td>Mortgage</td>\n",
              "      <td>Conventional home mortgage</td>\n",
              "      <td>Trouble during payment process</td>\n",
              "      <td>NaN</td>\n",
              "      <td>My mortgage is with BB &amp; T Bank, recently I ha...</td>\n",
              "      <td>Company has responded to the consumer and the ...</td>\n",
              "      <td>BB&amp;T CORPORATION</td>\n",
              "      <td>IN</td>\n",
              "      <td>NaN</td>\n",
              "      <td>NaN</td>\n",
              "      <td>Consent provided</td>\n",
              "      <td>Web</td>\n",
              "      <td>08/22/2018</td>\n",
              "      <td>Closed with explanation</td>\n",
              "      <td>Yes</td>\n",
              "      <td>NaN</td>\n",
              "      <td>2998686</td>\n",
              "    </tr>\n",
              "    <tr>\n",
              "      <th>8</th>\n",
              "      <td>11/13/2015</td>\n",
              "      <td>Mortgage</td>\n",
              "      <td>Other mortgage</td>\n",
              "      <td>Loan modification,collection,foreclosure</td>\n",
              "      <td>NaN</td>\n",
              "      <td>NaN</td>\n",
              "      <td>Company believes it acted appropriately as aut...</td>\n",
              "      <td>Aldridge Pite, LLP</td>\n",
              "      <td>CA</td>\n",
              "      <td>93101</td>\n",
              "      <td>NaN</td>\n",
              "      <td>NaN</td>\n",
              "      <td>Referral</td>\n",
              "      <td>12/10/2015</td>\n",
              "      <td>Closed with explanation</td>\n",
              "      <td>Yes</td>\n",
              "      <td>Yes</td>\n",
              "      <td>1654890</td>\n",
              "    </tr>\n",
              "    <tr>\n",
              "      <th>9</th>\n",
              "      <td>10/21/2014</td>\n",
              "      <td>Mortgage</td>\n",
              "      <td>Conventional fixed mortgage</td>\n",
              "      <td>Loan modification,collection,foreclosure</td>\n",
              "      <td>NaN</td>\n",
              "      <td>NaN</td>\n",
              "      <td>NaN</td>\n",
              "      <td>OCWEN LOAN SERVICING LLC</td>\n",
              "      <td>FL</td>\n",
              "      <td>32714</td>\n",
              "      <td>Older American</td>\n",
              "      <td>NaN</td>\n",
              "      <td>Web</td>\n",
              "      <td>10/21/2014</td>\n",
              "      <td>Closed with explanation</td>\n",
              "      <td>Yes</td>\n",
              "      <td>No</td>\n",
              "      <td>1079567</td>\n",
              "    </tr>\n",
              "  </tbody>\n",
              "</table>\n",
              "</div>"
            ],
            "text/plain": [
              "  Date received                      Product  \\\n",
              "0    03/12/2014                     Mortgage   \n",
              "1    01/19/2017                 Student loan   \n",
              "2    04/06/2018  Credit card or prepaid card   \n",
              "3    06/08/2014                  Credit card   \n",
              "4    09/13/2014              Debt collection   \n",
              "5    11/13/2013                     Mortgage   \n",
              "6    06/16/2015              Debt collection   \n",
              "7    08/22/2018                     Mortgage   \n",
              "8    11/13/2015                     Mortgage   \n",
              "9    10/21/2014                     Mortgage   \n",
              "\n",
              "                                  Sub-product  \\\n",
              "0                              Other mortgage   \n",
              "1              Federal student loan servicing   \n",
              "2  General-purpose credit card or charge card   \n",
              "3                                         NaN   \n",
              "4                                 Credit card   \n",
              "5      Conventional adjustable mortgage (ARM)   \n",
              "6                                     Medical   \n",
              "7                  Conventional home mortgage   \n",
              "8                              Other mortgage   \n",
              "9                 Conventional fixed mortgage   \n",
              "\n",
              "                                      Issue  \\\n",
              "0  Loan modification,collection,foreclosure   \n",
              "1        Dealing with my lender or servicer   \n",
              "2        Other features, terms, or problems   \n",
              "3                                Bankruptcy   \n",
              "4                     Communication tactics   \n",
              "5  Loan servicing, payments, escrow account   \n",
              "6       Improper contact or sharing of info   \n",
              "7            Trouble during payment process   \n",
              "8  Loan modification,collection,foreclosure   \n",
              "9  Loan modification,collection,foreclosure   \n",
              "\n",
              "                                Sub-issue  \\\n",
              "0                                     NaN   \n",
              "1  Received bad information about my loan   \n",
              "2                           Other problem   \n",
              "3                                     NaN   \n",
              "4              Frequent or repeated calls   \n",
              "5                                     NaN   \n",
              "6   Contacted employer after asked not to   \n",
              "7                                     NaN   \n",
              "8                                     NaN   \n",
              "9                                     NaN   \n",
              "\n",
              "                        Consumer complaint narrative  \\\n",
              "0                                                NaN   \n",
              "1  When my loan was switched over to Navient i wa...   \n",
              "2  I tried to sign up for a spending monitoring p...   \n",
              "3                                                NaN   \n",
              "4                                                NaN   \n",
              "5                                                NaN   \n",
              "6                                                NaN   \n",
              "7  My mortgage is with BB & T Bank, recently I ha...   \n",
              "8                                                NaN   \n",
              "9                                                NaN   \n",
              "\n",
              "                             Company public response  \\\n",
              "0                                                NaN   \n",
              "1                                                NaN   \n",
              "2                                                NaN   \n",
              "3                                                NaN   \n",
              "4                                                NaN   \n",
              "5                                                NaN   \n",
              "6  Company believes it acted appropriately as aut...   \n",
              "7  Company has responded to the consumer and the ...   \n",
              "8  Company believes it acted appropriately as aut...   \n",
              "9                                                NaN   \n",
              "\n",
              "                             Company State ZIP code            Tags  \\\n",
              "0               M&T BANK CORPORATION    MI    48382             NaN   \n",
              "1            Navient Solutions, LLC.    LA      NaN             NaN   \n",
              "2  CAPITAL ONE FINANCIAL CORPORATION    VA      NaN  Older American   \n",
              "3           AMERICAN EXPRESS COMPANY    ID    83854  Older American   \n",
              "4                     CITIBANK, N.A.    VA    23233             NaN   \n",
              "5                       U.S. BANCORP    MN    48322             NaN   \n",
              "6        California Accounts Service    CA    92111             NaN   \n",
              "7                   BB&T CORPORATION    IN      NaN             NaN   \n",
              "8                 Aldridge Pite, LLP    CA    93101             NaN   \n",
              "9           OCWEN LOAN SERVICING LLC    FL    32714  Older American   \n",
              "\n",
              "  Consumer consent provided? Submitted via Date sent to company  \\\n",
              "0                        NaN      Referral           03/17/2014   \n",
              "1           Consent provided           Web           01/19/2017   \n",
              "2           Consent provided           Web           04/06/2018   \n",
              "3                        NaN           Web           06/10/2014   \n",
              "4                        NaN           Web           09/13/2014   \n",
              "5                        NaN         Phone           11/20/2013   \n",
              "6       Consent not provided           Web           06/19/2015   \n",
              "7           Consent provided           Web           08/22/2018   \n",
              "8                        NaN      Referral           12/10/2015   \n",
              "9                        NaN           Web           10/21/2014   \n",
              "\n",
              "  Company response to consumer Timely response? Consumer disputed?  \\\n",
              "0      Closed with explanation              Yes                 No   \n",
              "1      Closed with explanation              Yes                 No   \n",
              "2      Closed with explanation              Yes                NaN   \n",
              "3      Closed with explanation              Yes                Yes   \n",
              "4      Closed with explanation              Yes                Yes   \n",
              "5  Closed with monetary relief              Yes                 No   \n",
              "6      Closed with explanation              Yes                 No   \n",
              "7      Closed with explanation              Yes                NaN   \n",
              "8      Closed with explanation              Yes                Yes   \n",
              "9      Closed with explanation              Yes                 No   \n",
              "\n",
              "   Complaint ID  \n",
              "0        759217  \n",
              "1       2296496  \n",
              "2       2866101  \n",
              "3        885638  \n",
              "4       1027760  \n",
              "5        596562  \n",
              "6       1422680  \n",
              "7       2998686  \n",
              "8       1654890  \n",
              "9       1079567  "
            ]
          },
          "metadata": {
            "tags": []
          },
          "execution_count": 10
        }
      ]
    },
    {
      "metadata": {
        "id": "OT8kNxP3v6a9",
        "colab_type": "code",
        "colab": {}
      },
      "cell_type": "code",
      "source": [
        "from keras.preprocessing.text import text_to_word_sequence\n",
        "import pandas as pd\n",
        "from keras.preprocessing.text import Tokenizer\n",
        "import numpy as np\n",
        "\n",
        "\n",
        "from keras.preprocessing import sequence\n",
        "from keras.models import Sequential\n",
        "from keras.layers import Dense, Dropout, Activation\n",
        "from keras.layers import Embedding\n",
        "from keras.layers import Conv1D, GlobalMaxPooling1D\n",
        "from keras.layers import Conv2D, GlobalMaxPooling2D"
      ],
      "execution_count": 0,
      "outputs": []
    },
    {
      "metadata": {
        "id": "C6efzhabwnBf",
        "colab_type": "code",
        "colab": {}
      },
      "cell_type": "code",
      "source": [
        "import pandas as pd\n",
        "d = pd.read_csv(\"gdrive/My Drive/Consumer_Complaints.csv\", \n",
        "                 usecols=[1, 5],\n",
        "                dtype={'consumer_complaint_narrative': object})"
      ],
      "execution_count": 0,
      "outputs": []
    },
    {
      "metadata": {
        "id": "QMvZeOEyw60F",
        "colab_type": "code",
        "outputId": "dbc2ba1e-ecc2-4c4d-c69c-cb9c5c44484a",
        "colab": {
          "base_uri": "https://localhost:8080/",
          "height": 173
        }
      },
      "cell_type": "code",
      "source": [
        "d.head(4)"
      ],
      "execution_count": 0,
      "outputs": [
        {
          "output_type": "execute_result",
          "data": {
            "text/html": [
              "<div>\n",
              "<style scoped>\n",
              "    .dataframe tbody tr th:only-of-type {\n",
              "        vertical-align: middle;\n",
              "    }\n",
              "\n",
              "    .dataframe tbody tr th {\n",
              "        vertical-align: top;\n",
              "    }\n",
              "\n",
              "    .dataframe thead th {\n",
              "        text-align: right;\n",
              "    }\n",
              "</style>\n",
              "<table border=\"1\" class=\"dataframe\">\n",
              "  <thead>\n",
              "    <tr style=\"text-align: right;\">\n",
              "      <th></th>\n",
              "      <th>Product</th>\n",
              "      <th>Consumer complaint narrative</th>\n",
              "    </tr>\n",
              "  </thead>\n",
              "  <tbody>\n",
              "    <tr>\n",
              "      <th>0</th>\n",
              "      <td>Mortgage</td>\n",
              "      <td>NaN</td>\n",
              "    </tr>\n",
              "    <tr>\n",
              "      <th>1</th>\n",
              "      <td>Student loan</td>\n",
              "      <td>When my loan was switched over to Navient i wa...</td>\n",
              "    </tr>\n",
              "    <tr>\n",
              "      <th>2</th>\n",
              "      <td>Credit card or prepaid card</td>\n",
              "      <td>I tried to sign up for a spending monitoring p...</td>\n",
              "    </tr>\n",
              "    <tr>\n",
              "      <th>3</th>\n",
              "      <td>Credit card</td>\n",
              "      <td>NaN</td>\n",
              "    </tr>\n",
              "  </tbody>\n",
              "</table>\n",
              "</div>"
            ],
            "text/plain": [
              "                       Product  \\\n",
              "0                     Mortgage   \n",
              "1                 Student loan   \n",
              "2  Credit card or prepaid card   \n",
              "3                  Credit card   \n",
              "\n",
              "                        Consumer complaint narrative  \n",
              "0                                                NaN  \n",
              "1  When my loan was switched over to Navient i wa...  \n",
              "2  I tried to sign up for a spending monitoring p...  \n",
              "3                                                NaN  "
            ]
          },
          "metadata": {
            "tags": []
          },
          "execution_count": 13
        }
      ]
    },
    {
      "metadata": {
        "id": "xc6u578ixHSP",
        "colab_type": "code",
        "outputId": "9c7117e8-f894-4278-a317-ef480b7920db",
        "colab": {
          "base_uri": "https://localhost:8080/",
          "height": 255
        }
      },
      "cell_type": "code",
      "source": [
        "# Only interested in data with consumer complaints\n",
        "\n",
        "d=d[d['Consumer complaint narrative'].notnull()]\n",
        "d=d[d['Product'].notnull()]\n",
        "d.reset_index(drop=True,inplace=True)\n",
        "x = d.iloc[:, 1].values\n",
        "y = d.iloc[:, 0].values\n",
        "print(y)\n",
        "\n",
        "#there are 11 unique classes for classification\n",
        "print(np.unique(y, return_counts=True))"
      ],
      "execution_count": 0,
      "outputs": [
        {
          "output_type": "stream",
          "text": [
            "['Student loan' 'Credit card or prepaid card' 'Mortgage' ...\n",
            " 'Payday loan, title loan, or personal loan' 'Mortgage'\n",
            " 'Credit reporting, credit repair services, or other personal consumer reports']\n",
            "(array(['Bank account or service', 'Checking or savings account',\n",
            "       'Consumer Loan', 'Credit card', 'Credit card or prepaid card',\n",
            "       'Credit reporting',\n",
            "       'Credit reporting, credit repair services, or other personal consumer reports',\n",
            "       'Debt collection',\n",
            "       'Money transfer, virtual currency, or money service',\n",
            "       'Money transfers', 'Mortgage', 'Other financial service',\n",
            "       'Payday loan', 'Payday loan, title loan, or personal loan',\n",
            "       'Prepaid card', 'Student loan', 'Vehicle loan or lease',\n",
            "       'Virtual currency'], dtype=object), array([14885, 10141,  9473, 18838, 17048, 31588, 74460, 77742,  4550,\n",
            "        1497, 49451,   292,  1747,  3453,  1450, 19610,  4523,    16]))\n"
          ],
          "name": "stdout"
        }
      ]
    },
    {
      "metadata": {
        "id": "YtE-wpoMxM5C",
        "colab_type": "code",
        "outputId": "7fbcc2bc-c264-4d06-873a-c3796b5b66ee",
        "colab": {
          "base_uri": "https://localhost:8080/",
          "height": 136
        }
      },
      "cell_type": "code",
      "source": [
        "#converts into unique array with single positive token thus tokenizing it ,giving 200 words at time,neclecting punctuation and converting to lowercase\n",
        "tk = Tokenizer(num_words=200, filters = '!\"#$%&()*+,-./:;<=>?@[\\\\]^_`{|}~\\t\\n',lower=True, split=\" \")\n",
        "tk.fit_on_texts(x)\n",
        "x = tk.texts_to_sequences(x)\n",
        "x = sequence.pad_sequences(x, maxlen=200)\n",
        "print(x)"
      ],
      "execution_count": 0,
      "outputs": [
        {
          "output_type": "stream",
          "text": [
            "[[  0   0   0 ...  22  80  84]\n",
            " [  0   0   0 ...  24 142  30]\n",
            " [ 49   3  16 ...   4  20   1]\n",
            " ...\n",
            " [120   1  34 ...   9   2   2]\n",
            " [  0   0   0 ...  71  17 105]\n",
            " [  0   0   0 ...  15   4  81]]\n"
          ],
          "name": "stdout"
        }
      ]
    },
    {
      "metadata": {
        "id": "fsH7oJ9hE47m",
        "colab_type": "code",
        "outputId": "7850558e-39f7-4f27-cd01-623167cbe9dc",
        "colab": {
          "base_uri": "https://localhost:8080/",
          "height": 85
        }
      },
      "cell_type": "code",
      "source": [
        "from sklearn.preprocessing import LabelEncoder, OneHotEncoder# assigns unique value to each and used as a label\n",
        "labelencoder_Y = LabelEncoder()\n",
        "y = labelencoder_Y.fit_transform(y)\n",
        "print(y)\n",
        "print(np.unique(y, return_counts=True))"
      ],
      "execution_count": 0,
      "outputs": [
        {
          "output_type": "stream",
          "text": [
            "[15  4 10 ... 13 10  6]\n",
            "(array([ 0,  1,  2,  3,  4,  5,  6,  7,  8,  9, 10, 11, 12, 13, 14, 15, 16,\n",
            "       17]), array([14885, 10141,  9473, 18838, 17048, 31588, 74460, 77742,  4550,\n",
            "        1497, 49451,   292,  1747,  3453,  1450, 19610,  4523,    16]))\n"
          ],
          "name": "stdout"
        }
      ]
    },
    {
      "metadata": {
        "id": "GmPkPYlNDvL4",
        "colab_type": "code",
        "outputId": "1bc6d31c-3b35-4080-8aed-f218b9fce1c2",
        "colab": {
          "base_uri": "https://localhost:8080/",
          "height": 136
        }
      },
      "cell_type": "code",
      "source": [
        "from keras import utils as np_utils #converts to vector\n",
        "y = np_utils.to_categorical(y, num_classes=18)\n",
        "\n",
        "print(y)"
      ],
      "execution_count": 0,
      "outputs": [
        {
          "output_type": "stream",
          "text": [
            "[[0. 0. 0. ... 1. 0. 0.]\n",
            " [0. 0. 0. ... 0. 0. 0.]\n",
            " [0. 0. 0. ... 0. 0. 0.]\n",
            " ...\n",
            " [0. 0. 0. ... 0. 0. 0.]\n",
            " [0. 0. 0. ... 0. 0. 0.]\n",
            " [0. 0. 0. ... 0. 0. 0.]]\n"
          ],
          "name": "stdout"
        }
      ]
    },
    {
      "metadata": {
        "id": "yuxMDLSDPCls",
        "colab_type": "code",
        "colab": {}
      },
      "cell_type": "code",
      "source": [
        "np.random.seed(200)\n",
        "indices = np.arange(len(x))\n",
        "np.random.shuffle(indices)\n",
        "x = x[indices]\n",
        "y = y[indices]\n"
      ],
      "execution_count": 0,
      "outputs": []
    },
    {
      "metadata": {
        "id": "Q0k-8ubyQOac",
        "colab_type": "code",
        "outputId": "f6de8274-187d-4ee1-db67-d6f28cc9d282",
        "colab": {
          "base_uri": "https://localhost:8080/",
          "height": 255
        }
      },
      "cell_type": "code",
      "source": [
        "print(x)\n",
        "print(y)"
      ],
      "execution_count": 0,
      "outputs": [
        {
          "output_type": "stream",
          "text": [
            "[[  0   0   0 ... 169   6   6]\n",
            " [  0   0   0 ...   1   1   1]\n",
            " [  0   0   0 ...  34  17 121]\n",
            " ...\n",
            " [  2 157  47 ...  19  12 139]\n",
            " [  0   0   0 ...  17  39  46]\n",
            " [  0   0   0 ...  17  28 160]]\n",
            "[[0. 0. 0. ... 1. 0. 0.]\n",
            " [0. 0. 0. ... 0. 0. 0.]\n",
            " [0. 0. 0. ... 0. 0. 0.]\n",
            " ...\n",
            " [0. 0. 0. ... 0. 0. 0.]\n",
            " [0. 0. 0. ... 0. 0. 0.]\n",
            " [0. 0. 0. ... 0. 0. 0.]]\n"
          ],
          "name": "stdout"
        }
      ]
    },
    {
      "metadata": {
        "id": "leCQRgHLQUlI",
        "colab_type": "code",
        "colab": {}
      },
      "cell_type": "code",
      "source": [
        "index_from=3\n",
        "start_char = 1\n",
        "if start_char is not None:\n",
        "        x = [[start_char] + [w + index_from for w in x1] for x1 in x]\n",
        "elif index_from:\n",
        "        x = [[w + index_from for w in x1] for x1 in x]"
      ],
      "execution_count": 0,
      "outputs": []
    },
    {
      "metadata": {
        "id": "vzzBa54dQe-8",
        "colab_type": "code",
        "outputId": "a72ba92d-78fa-4a99-d69c-b5b4ea889ae8",
        "colab": {
          "base_uri": "https://localhost:8080/",
          "height": 187
        }
      },
      "cell_type": "code",
      "source": [
        "print(x)"
      ],
      "execution_count": 0,
      "outputs": [
        {
          "output_type": "stream",
          "text": [
            "IOPub data rate exceeded.\n",
            "The notebook server will temporarily stop sending output\n",
            "to the client in order to avoid crashing it.\n",
            "To change this limit, set the config variable\n",
            "`--NotebookApp.iopub_data_rate_limit`.\n",
            "\n",
            "Current values:\n",
            "NotebookApp.iopub_data_rate_limit=1000000.0 (bytes/sec)\n",
            "NotebookApp.rate_limit_window=3.0 (secs)\n",
            "\n"
          ],
          "name": "stderr"
        }
      ]
    },
    {
      "metadata": {
        "id": "bGPChnoVRPwu",
        "colab_type": "code",
        "outputId": "99461db0-8858-4634-bb81-7c6f78b6ffc1",
        "colab": {
          "base_uri": "https://localhost:8080/",
          "height": 204
        }
      },
      "cell_type": "code",
      "source": [
        "num_words = None\n",
        "if not num_words:\n",
        "        num_words = max([max(x1) for x1 in x])\n",
        "        \n",
        "oov_char = 2\n",
        "skip_top = 0\n",
        "# by convention, use 2 as OOV word\n",
        "# reserve 'index_from' (=3 by default) characters:\n",
        "# 0 (padding), 1 (start), 2 (OOV)\n",
        "if oov_char is not None:\n",
        "        x = [[w if (skip_top <= w < num_words) else oov_char for w in x1] for x1 in x]\n",
        "else:\n",
        "        x = [[w for w in x1 if (skip_top <= w < num_words)] for x1 in x]\n",
        "        \n",
        "# split test and train data\n",
        "test_split = 0.2\n",
        "idx = int(len(x) * (1 - test_split))\n",
        "x_train, y_train = np.array(x[:idx]), np.array(y[:idx])\n",
        "x_test, y_test = np.array(x[:idx]), np.array(y[:idx]) #######################\n",
        "\n",
        "print(x_train.shape)\n",
        "print(y_train.shape)\n",
        "print(x_test.shape)\n",
        "print(y_test.shape)\n",
        "print(y)"
      ],
      "execution_count": 0,
      "outputs": [
        {
          "output_type": "stream",
          "text": [
            "(272611, 201)\n",
            "(272611, 18)\n",
            "(272611, 201)\n",
            "(272611, 18)\n",
            "[[0. 0. 0. ... 1. 0. 0.]\n",
            " [0. 0. 0. ... 0. 0. 0.]\n",
            " [0. 0. 0. ... 0. 0. 0.]\n",
            " ...\n",
            " [0. 0. 0. ... 0. 0. 0.]\n",
            " [0. 0. 0. ... 0. 0. 0.]\n",
            " [0. 0. 0. ... 0. 0. 0.]]\n"
          ],
          "name": "stdout"
        }
      ]
    },
    {
      "metadata": {
        "id": "FOLFGPEJRqtF",
        "colab_type": "code",
        "outputId": "024457c3-abbf-45ed-cc20-e4827ef4d0a6",
        "colab": {
          "base_uri": "https://localhost:8080/",
          "height": 51
        }
      },
      "cell_type": "code",
      "source": [
        "x_train = sequence.pad_sequences(x_train, maxlen=201)\n",
        "x_test = sequence.pad_sequences(x_test, maxlen=201)\n",
        "print('x_train shape:', x_train.shape)\n",
        "print('x_test shape:', x_test.shape)\n"
      ],
      "execution_count": 0,
      "outputs": [
        {
          "output_type": "stream",
          "text": [
            "x_train shape: (272611, 201)\n",
            "x_test shape: (272611, 201)\n"
          ],
          "name": "stdout"
        }
      ]
    },
    {
      "metadata": {
        "id": "be8WXEqLaaXe",
        "colab_type": "code",
        "outputId": "a42661aa-6a42-4421-bd49-90681ad1a3e3",
        "colab": {
          "base_uri": "https://localhost:8080/",
          "height": 207
        }
      },
      "cell_type": "code",
      "source": [
        "max_features = 1000\n",
        "maxlen = 201\n",
        "embedding_dims = 50\n",
        "filters = 250\n",
        "kernel_size = 3\n",
        "hidden_dims = 250\n",
        "\n",
        "\n",
        "# CNN with max pooling imeplementation \n",
        "print('Build model...')\n",
        "model = Sequential()\n",
        "# we start off with an efficient embedding layer which maps\n",
        "# our vocab indices into embedding_dims dimensions\n",
        "model.add(Embedding(max_features,\n",
        "                    embedding_dims,\n",
        "                    input_length=maxlen))\n",
        "model.add(Dropout(5.0))\n",
        "\n",
        "# we add a Convolution1D, which will learn filters\n",
        "# word group filters of size filter_length:\n",
        "model.add(Conv1D(filters,\n",
        "                 kernel_size,\n",
        "                 padding='valid',\n",
        "                 activation='relu',\n",
        "                 strides=1))\n",
        "# we use max pooling:\n",
        "model.add(GlobalMaxPooling1D())\n",
        "\n",
        "# We add a vanilla hidden layer:\n",
        "model.add(Dense(hidden_dims))\n",
        "model.add(Dropout(5.0))\n",
        "model.add(Activation('relu'))\n",
        "\n",
        "# We project onto a single unit output layer, and squash it with a sigmoid:\n",
        "model.add(Dense(18))#11\n",
        "model.add(Activation('softmax'))\n",
        "\n",
        "model.compile(loss='categorical_crossentropy',\n",
        "              optimizer='rmsprop',\n",
        "              metrics=['accuracy'])\n",
        "\n",
        "model.fit(x_train, y_train,\n",
        "          batch_size=32,\n",
        "          epochs=50,\n",
        "          validation_data=(x_test, y_test))"
      ],
      "execution_count": 0,
      "outputs": [
        {
          "output_type": "stream",
          "text": [
            "Build model...\n",
            "WARNING:tensorflow:From /usr/local/lib/python3.6/dist-packages/tensorflow/python/ops/math_ops.py:3066: to_int32 (from tensorflow.python.ops.math_ops) is deprecated and will be removed in a future version.\n",
            "Instructions for updating:\n",
            "Use tf.cast instead.\n",
            "WARNING:tensorflow:From /usr/local/lib/python3.6/dist-packages/tensorflow/python/ops/math_grad.py:102: div (from tensorflow.python.ops.math_ops) is deprecated and will be removed in a future version.\n",
            "Instructions for updating:\n",
            "Deprecated in favor of operator or tf.math.divide.\n",
            "Train on 272611 samples, validate on 272611 samples\n",
            "Epoch 1/50\n",
            " 99296/272611 [=========>....................] - ETA: 9:46 - loss: 1.2903 - acc: 0.5678"
          ],
          "name": "stdout"
        }
      ]
    },
    {
      "metadata": {
        "id": "RXsNj1oGoPU3",
        "colab_type": "code",
        "colab": {}
      },
      "cell_type": "code",
      "source": [
        ""
      ],
      "execution_count": 0,
      "outputs": []
    }
  ]
}